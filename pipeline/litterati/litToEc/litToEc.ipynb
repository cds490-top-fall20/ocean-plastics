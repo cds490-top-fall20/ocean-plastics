{
 "cells": [
  {
   "cell_type": "markdown",
   "metadata": {},
   "source": [
    "###  Imports:"
   ]
  },
  {
   "cell_type": "code",
   "execution_count": 1,
   "metadata": {},
   "outputs": [],
   "source": [
    "import pandas as pd\n",
    "import matplotlib.pyplot as plt\n",
    "import contextily\n",
    "import geopandas as gpd\n",
    "from shapely.geometry import Point, Polygon\n",
    "from geopy.geocoders import Nominatim\n",
    "\n"
   ]
  },
  {
   "cell_type": "markdown",
   "metadata": {},
   "source": [
    "### Get existing schema from EC header"
   ]
  },
  {
   "cell_type": "code",
   "execution_count": 2,
   "metadata": {},
   "outputs": [
    {
     "name": "stdout",
     "output_type": "stream",
     "text": [
      "<PandasArray>\n",
      "[                              'X',                               'Y',\n",
      "                        'OBJECTID',                'RecordSequenceID',\n",
      "                        'UniqueID',                        'SourceID',\n",
      "                  'LocationFreqID',                        'Location',\n",
      "                         'Dataset',                    'Organization',\n",
      "                           'Other',          'CountryName_FromSource',\n",
      "        'SubCountry_L1_FromSource',        'SubCountry_L2_FromSource',\n",
      "                      'Longitude1',                       'Latitude1',\n",
      "                      'Longitude2',                       'Latitude2',\n",
      "                    'TotalWidth_m',                   'TotalLength_m',\n",
      "                  'TotalArea_Sq_m',                   'ShorelineName',\n",
      "                  'WaterfrontName',              'BeachAreaLandcover',\n",
      "                       'BeachType',                       'EventType',\n",
      "                 'TotalVolunteers',                    'DateOriginal',\n",
      "                'DateStandardized',                       'MonthYear',\n",
      "                            'Year',                        'MonthNum',\n",
      "                           'Month',                             'Day',\n",
      "                       'StartTime',                             'DOW',\n",
      "                'FieldObsevations',               'DebrisDescription',\n",
      "          'Totalltems_EventRecord',     'TotalClassifiedItems_EC2020',\n",
      "              'PCT_PlasticAndFoam',   'PCT_Glass_Rubber_Lumber_Metal',\n",
      "  'SUM_Hard_PlasticBeverageBottle',     'SUM_Hard_OtherPlasticBottle',\n",
      " 'SUM_HardOrSoft_PlasticBottleCap',  'SUM_PlasticOrFoamFoodContainer',\n",
      "          'SUM_Hard_BucketOrCrate',                'SUM_Hard_Lighter',\n",
      "            'SUM_OtherHardPlastic', 'SUM_PlasticOrFoamPlatesBowlsCup',\n",
      " 'SUM_HardSoft_PersonalCareProduc', 'SUM_HardSoftLollipopStick_EarBu',\n",
      "                    'SUM_Soft_Bag',         'SUM_Soft_WrapperOrLabel',\n",
      "                  'SUM_Soft_Straw',           'SUM_Soft_OtherPlastic',\n",
      "         'SUM_Soft_CigaretteButts',       'SUM_Soft_StringRingRibbon',\n",
      "                     'Fishing_Net',         'SUM_FishingLineLureRope',\n",
      "          'Fishing_BuoysAndFloats',     'SUM_Foam_OtherPlasticDebris',\n",
      "          'SUM_OtherPlasticDebris',                            'NAME',\n",
      "                         'COUNTRY',                        'ISO_CODE',\n",
      "                          'ISO_CC',                         'ISO_SUB',\n",
      "                       'ADMINTYPE',                        'DISPUTED',\n",
      "                           'NOTES',                      'AUTONOMOUS',\n",
      "                      'COUNTRYAFF',                       'CONTINENT',\n",
      "                       'LAND_TYPE',                       'LAND_RANK',\n",
      "                     'Shape__Area',                   'Shape__Length',\n",
      "                          'Count_',                    'Soft_Sheets2',\n",
      "                  'PlasticStraps2',              'FishingGlowSticks2',\n",
      "      'FishingOtherPlasticDebris2']\n",
      "Length: 83, dtype: object\n"
     ]
    }
   ],
   "source": [
    "# Use only 1st row, header = None, so that we can use the header\n",
    "#ec = pd.read_csv('Earth Challenge.csv',nrows=1,header = None)\n",
    "#ecAr = pd.array(ec[1])\n",
    "#print((ecAr[0]))\n",
    "\n",
    "ec = pd.read_csv('Earth Challenge.csv',low_memory=False)\n",
    "header = pd.array(ec.columns)\n",
    "print(header)"
   ]
  },
  {
   "cell_type": "markdown",
   "metadata": {},
   "source": [
    "### Open Literatti database"
   ]
  },
  {
   "cell_type": "code",
   "execution_count": 3,
   "metadata": {},
   "outputs": [
    {
     "name": "stdout",
     "output_type": "stream",
     "text": [
      "0        42.1889634352895/-71.8448098585561\n",
      "1         42.188742998623/-71.8447079596796\n",
      "2        42.1887950511299/-71.8446159129388\n",
      "3        42.1889483562912/-71.8447523633756\n",
      "4        42.1890105371223/-71.8447870765504\n",
      "                        ...                \n",
      "49995    37.9701970744255/-87.5427435394234\n",
      "49996    37.9703921845795/-87.5426918912892\n",
      "49997    37.9701643760669/-87.5427652331434\n",
      "49998    37.9701999056073/-87.5427131712542\n",
      "49999     37.9702355075375/-87.542762824684\n",
      "Name: Location (Lat/Long), Length: 50000, dtype: object\n"
     ]
    }
   ],
   "source": [
    "litter = pd.read_csv('Litterati.csv')\n",
    "print(litter['Location (Lat/Long)'])"
   ]
  },
  {
   "cell_type": "markdown",
   "metadata": {},
   "source": [
    "### ^^ Above we see that Latitude and Longitude are grouped together"
   ]
  },
  {
   "cell_type": "markdown",
   "metadata": {},
   "source": [
    "## Function sepXY(str)\n",
    "### The function takes a string of the sort str = '42.1889634352895/-71.8448098585561'\n",
    "### then separates it into two separate coordinates representing Latitude and Longitude \n",
    "### returns: a list with 2 strings representing Latitude and Longitude \n"
   ]
  },
  {
   "cell_type": "code",
   "execution_count": 4,
   "metadata": {},
   "outputs": [
    {
     "name": "stdout",
     "output_type": "stream",
     "text": [
      "42.1889634352895\n",
      "-71.8448098585561\n",
      "<class 'str'>\n"
     ]
    }
   ],
   "source": [
    "def sepXY(str):\n",
    "    x = ''\n",
    "    y = ''\n",
    "    count = 0\n",
    "    for c in str:\n",
    "        if(c == '/'):\n",
    "            count += 1\n",
    "            break\n",
    "        else:\n",
    "            x += c\n",
    "        count += 1 \n",
    "    for c in str[count:]:\n",
    "        y += c\n",
    "    list = [x,y]\n",
    "    return list\n",
    "\n",
    "str = '42.1889634352895/-71.8448098585561'\n",
    "Len = sepXY(str)[0]\n",
    "long = sepXY(str)[1]\n",
    "print(Len)\n",
    "print(long)\n",
    "print(type(Len))"
   ]
  },
  {
   "cell_type": "markdown",
   "metadata": {},
   "source": [
    "### Get Coordinates X Y"
   ]
  },
  {
   "cell_type": "code",
   "execution_count": 5,
   "metadata": {},
   "outputs": [
    {
     "name": "stdout",
     "output_type": "stream",
     "text": [
      "                      X                  Y\n",
      "0      42.1889634352895  -71.8448098585561\n",
      "1       42.188742998623  -71.8447079596796\n",
      "2      42.1887950511299  -71.8446159129388\n",
      "3      42.1889483562912  -71.8447523633756\n",
      "4      42.1890105371223  -71.8447870765504\n",
      "...                 ...                ...\n",
      "49995  37.9701970744255  -87.5427435394234\n",
      "49996  37.9703921845795  -87.5426918912892\n",
      "49997  37.9701643760669  -87.5427652331434\n",
      "49998  37.9701999056073  -87.5427131712542\n",
      "49999  37.9702355075375   -87.542762824684\n",
      "\n",
      "[50000 rows x 2 columns]\n"
     ]
    }
   ],
   "source": [
    "# Make an array containing the location column\n",
    "loc = pd.array(litter['Location (Lat/Long)'])\n",
    "lat = []\n",
    "long = []\n",
    "\n",
    "counter = 0\n",
    "for i in loc:\n",
    "    \n",
    "    latLong = sepXY(i)\n",
    "    lat.append(latLong[0])\n",
    "    long.append(latLong[1])\n",
    "    counter += 1\n",
    " \n",
    "    # Example Dataframe with just coordinates  \n",
    "    # header[0] = 'X', header[1] = 'Y' \n",
    "dict = {header[0] : lat, header[1] : long}\n",
    "coord = pd.DataFrame(dict)\n",
    "print(coord)\n",
    "    \n",
    "\n"
   ]
  },
  {
   "cell_type": "markdown",
   "metadata": {},
   "source": [
    "### It looks like a lot of the coordinates are pretty close together.\n",
    "### Since in the EC dataset, each tuple is a cleanup EVENT, we can \n",
    "### group up litter by location ? How? ...I'm still figuring that out.\n"
   ]
  },
  {
   "cell_type": "code",
   "execution_count": 6,
   "metadata": {},
   "outputs": [
    {
     "data": {
      "text/plain": [
       "['naturalearth_cities', 'naturalearth_lowres', 'nybb']"
      ]
     },
     "execution_count": 6,
     "metadata": {},
     "output_type": "execute_result"
    },
    {
     "data": {
      "image/png": "[encoded data removed]",
      "text/plain": [
       "<Figure size 432x288 with 1 Axes>"
      ]
     },
     "metadata": {
      "needs_background": "light"
     },
     "output_type": "display_data"
    }
   ],
   "source": [
    "world = gpd.read_file(gpd.datasets.get_path('naturalearth_lowres'))\n",
    "ax = world[world.continent == 'North America'].plot(color='white', edgecolor='black')\n",
    "gpd.datasets.available\n"
   ]
  },
  {
   "cell_type": "markdown",
   "metadata": {},
   "source": [
    "### ^^ Confusing "
   ]
  },
  {
   "cell_type": "markdown",
   "metadata": {},
   "source": [
    "### Try with a downloaded library that needs to stay in directory"
   ]
  },
  {
   "cell_type": "code",
   "execution_count": 7,
   "metadata": {},
   "outputs": [
    {
     "data": {
      "text/plain": [
       "<AxesSubplot:>"
      ]
     },
     "execution_count": 7,
     "metadata": {},
     "output_type": "execute_result"
    },
    {
     "data": {
      "image/png": "[encoded data removed]",
      "text/plain": [
       "<Figure size 432x288 with 1 Axes>"
      ]
     },
     "metadata": {
      "needs_background": "light"
     },
     "output_type": "display_data"
    }
   ],
   "source": [
    "usa = gpd.read_file(\"/Users/ivanstoykov/Desktop/CDS 490/states_21basic/states.shp\")\n",
    "#usa.head()\n",
    "usa[usa.STATE_ABBR == 'VA'].plot()\n"
   ]
  },
  {
   "cell_type": "code",
   "execution_count": 8,
   "metadata": {},
   "outputs": [
    {
     "name": "stdout",
     "output_type": "stream",
     "text": [
      "MULTIPOLYGON (((-160.0738033454681 22.00417734795773, -160.0497093454457 21.98816434794282, -160.0898583454831 21.91587034787549, -160.1701373455579 21.86759634783053, -160.2022593455878 21.7953083477632, -160.2424063456252 21.80328034777063, -160.2263363456102 21.89159234785287, -160.121962345513 21.96397834792029, -160.0738033454681 22.00417734795773)), ((-159.3351743447802 21.94834334790573, -159.4395453448774 21.86807134783097, -159.5760213450045 21.88413634784593, -159.6402473450644 21.94836534790575, -159.7365923451541 21.9644203479207, -159.8008143452139 22.03666634798799, -159.7125063451317 22.14905934809266, -159.5760123450045 22.21317934815238, -159.3913673448326 22.22912034816722, -159.3431953447877 22.19701634813732, -159.2950253447428 22.12481234807008, -159.3271303447727 22.04463934799541, -159.3351743447802 21.94834334790573)), ((-157.6733303432325 21.29802734730007, -157.68137134324 21.27394234727764, -157.7215013432774 21.28197134728512, -157.8258713433746 21.24986334725522, -157.8981343434419 21.33014434732999, -157.9463063434868 21.30606134730756, -158.0988333436288 21.29000834729261, -158.1309513436587 21.35423234735242, -158.2353183437559 21.47465234746457, -158.2433423437634 21.53887934752439, -158.2674313437858 21.58704234756924, -158.1148943436438 21.57901634756177, -158.0426263435764 21.67535034765148, -157.9864283435241 21.69943334767391, -157.9141793434568 21.6352083476141, -157.849959343397 21.50675834749447, -157.8098153433596 21.43450534742718, -157.7616433433148 21.45858734744961, -157.7134723432699 21.38633534738232, -157.6733303432325 21.29802734730007)), ((-156.7178723423427 21.1374193471505, -156.7660483423875 21.06517634708322, -156.8864843424997 21.04913434706828, -157.0711323426717 21.10533134712061, -157.2878973428735 21.08125034709819, -157.3039483428885 21.13744834715052, -157.2477473428362 21.16153034717295, -157.2316943428212 21.23377634724024, -157.1674713427614 21.19364034720286, -157.0069033426118 21.18561034719538, -156.9925463425985 21.19542034720451, -156.958733342567 21.20969334721781, -156.9433463425527 21.17277834718343, -156.9142423425256 21.16737234717839, -156.9102143425218 21.15804534716971, -156.7178723423427 21.1374193471505)), ((-157.0390503426418 20.92870734695612, -156.9105863425222 20.92871834695613, -156.806205342425 20.84041834687389, -156.8142253424324 20.79225234682903, -156.8864873424997 20.73604934677669, -156.9667653425745 20.72802034676921, -156.9908633425969 20.79223734682902, -156.9828263425894 20.83237734686641, -157.0550983426567 20.88053834691126, -157.0390503426418 20.92870734695612)), ((-156.1960453418567 20.63164934667946, -156.2763173419314 20.58348434663461, -156.3967353420436 20.56742734661965, -156.436879342081 20.62362134667199, -156.4609723421034 20.72798134676918, -156.4930743421333 20.79220434682899, -156.5251933421632 20.77614934681404, -156.6375863422679 20.80826134684395, -156.6937823423202 20.91262434694114, -156.6536363422829 21.01698534703834, -156.5974393422305 21.04106434706076, -156.5251913421632 20.98487034700842, -156.4770223421184 20.89656534692618, -156.3566033420062 20.94472634697104, -156.2602633419165 20.92867134695609, -156.0113923416847 20.80022534683646, -155.9873173416623 20.75206134679161, -156.0435113417146 20.65573234670189, -156.1318093417969 20.62362334667199, -156.1960453418567 20.63164934667946)), ((-155.6661923413632 18.92178634508703, -155.7785853414679 19.01009234516927, -155.8588613415426 19.01010134516928, -155.9070313415875 19.13051334528142, -155.8749273415576 19.37135834550573, -155.9471783416249 19.4837503456104, -155.9712583416473 19.62825234574498, -156.0435243417147 19.78078334588703, -155.9793013416548 19.82092234592442, -155.8829583415651 19.93331234602908, -155.8267613415128 20.00556334609637, -155.8347863415202 20.06175734614871, -155.8909783415726 20.17414934625338, -155.8588583415427 20.2704793463431, -155.7384423414305 20.20625634628328, -155.561826341266 20.134007346216, -155.2005503409296 19.99752834608889, -155.0961853408324 19.87711434597675, -155.0721063408099 19.72458534583469, -154.9757633407202 19.74064334584965, -154.9757623407202 19.6523353457674, -154.7910963405482 19.53996034566275, -154.8151873405707 19.45967634558798, -154.9275813406753 19.41951834555058, -155.0158813407576 19.33121134546834, -155.1523723408847 19.26699234540853, -155.3048993410268 19.23487834537862, -155.5216783412286 19.12248434527394, -155.5377293412436 19.04221034519918, -155.6661923413632 18.92178634508703)))\n"
     ]
    }
   ],
   "source": [
    "print(usa['geometry'][0])"
   ]
  },
  {
   "cell_type": "code",
   "execution_count": 11,
   "metadata": {},
   "outputs": [
    {
     "name": "stdout",
     "output_type": "stream",
     "text": [
      "0        42.1889634352895, -71.8448098585561\n",
      "1         42.188742998623, -71.8447079596796\n",
      "2        42.1887950511299, -71.8446159129388\n",
      "3        42.1889483562912, -71.8447523633756\n",
      "4        42.1890105371223, -71.8447870765504\n",
      "                        ...                 \n",
      "49995    37.9701970744255, -87.5427435394234\n",
      "49996    37.9703921845795, -87.5426918912892\n",
      "49997    37.9701643760669, -87.5427652331434\n",
      "49998    37.9701999056073, -87.5427131712542\n",
      "49999     37.9702355075375, -87.542762824684\n",
      "Length: 50000, dtype: object\n"
     ]
    }
   ],
   "source": [
    "geolocator = Nominatim(user_agent=\"GMU\")\n",
    "print( coord['X'] + ', ' + coord['Y'])\n",
    "#location = geolocator.reverse(coord['X'][0], coord['Y'][0])\n",
    "#print(type(float(coord['X'][0])))"
   ]
  }
 ],
 "metadata": {
  "kernelspec": {
   "display_name": "Python 3",
   "language": "python",
   "name": "python3"
  },
  "language_info": {
   "codemirror_mode": {
    "name": "ipython",
    "version": 3
   },
   "file_extension": ".py",
   "mimetype": "text/x-python",
   "name": "python",
   "nbconvert_exporter": "python",
   "pygments_lexer": "ipython3",
   "version": "3.8.3"
  }
 },
 "nbformat": 4,
 "nbformat_minor": 4
}
