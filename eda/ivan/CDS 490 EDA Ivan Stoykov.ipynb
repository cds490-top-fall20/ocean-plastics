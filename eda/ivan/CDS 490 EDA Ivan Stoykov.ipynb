{
 "cells": [
  {
   "cell_type": "markdown",
   "metadata": {},
   "source": [
    "## What data are we given in Litterati ?"
   ]
  },
  {
   "cell_type": "code",
   "execution_count": 68,
   "metadata": {},
   "outputs": [
    {
     "name": "stdout",
     "output_type": "stream",
     "text": [
      "<class 'pandas.core.frame.DataFrame'>\n",
      "Int64Index: 50000 entries, 8446786 to 8258020\n",
      "Data columns (total 4 columns):\n",
      " #   Column               Non-Null Count  Dtype \n",
      "---  ------               --------------  ----- \n",
      " 0   Tags                 10220 non-null  object\n",
      " 1   Location (Lat/Long)  50000 non-null  object\n",
      " 2   Country              50000 non-null  object\n",
      " 3   Date                 50000 non-null  object\n",
      "dtypes: object(4)\n",
      "memory usage: 1.9+ MB\n"
     ]
    }
   ],
   "source": [
    "import pandas as pd\n",
    "litter = pd.read_csv('Desktop/Litterati.csv', index_col = 0,low_memory = False)\n",
    "litter.info()\n"
   ]
  },
  {
   "cell_type": "markdown",
   "metadata": {},
   "source": [
    "# Only ~ 1/5 entries are tagged. The rest is unknown litter."
   ]
  },
  {
   "cell_type": "markdown",
   "metadata": {},
   "source": [
    "# Earth Challenge schema:"
   ]
  },
  {
   "cell_type": "code",
   "execution_count": 69,
   "metadata": {},
   "outputs": [
    {
     "name": "stdout",
     "output_type": "stream",
     "text": [
      "<class 'pandas.core.frame.DataFrame'>\n",
      "RangeIndex: 55082 entries, 0 to 55081\n",
      "Data columns (total 65 columns):\n",
      " #   Column                                     Non-Null Count  Dtype  \n",
      "---  ------                                     --------------  -----  \n",
      " 0   Cleanup ID                                 55082 non-null  object \n",
      " 1   Zone                                       54823 non-null  object \n",
      " 2   State                                      54734 non-null  object \n",
      " 3   Country                                    55081 non-null  object \n",
      " 4   GPS                                        55081 non-null  object \n",
      " 5   Cleanup Type                               55081 non-null  object \n",
      " 6   Cleanup Date                               55081 non-null  object \n",
      " 7   Group Name                                 39844 non-null  object \n",
      " 8   Adults                                     55081 non-null  float64\n",
      " 9   Children                                   55081 non-null  float64\n",
      " 10  People                                     55081 non-null  float64\n",
      " 11  Pounds                                     55081 non-null  float64\n",
      " 12  Miles                                      55081 non-null  float64\n",
      " 13  # of bags                                  55081 non-null  float64\n",
      " 14  Cigarette Butts                            55082 non-null  int64  \n",
      " 15  Food Wrappers (candy, chips, etc.)         55082 non-null  int64  \n",
      " 16  Take Out/Away Containers (Plastic)         55082 non-null  int64  \n",
      " 17  Take Out/Away Containers (Foam)            55082 non-null  int64  \n",
      " 18  Bottle Caps (Plastic)                      55082 non-null  int64  \n",
      " 19  Bottle Caps (Metal)                        55082 non-null  int64  \n",
      " 20  Lids (Plastic)                             55082 non-null  int64  \n",
      " 21  Straws, Stirrers                           55082 non-null  int64  \n",
      " 22  Forks, Knives, Spoons                      55082 non-null  int64  \n",
      " 23  Beverage Bottles (Plastic)                 55082 non-null  int64  \n",
      " 24  Beverage Bottles (Glass)                   55082 non-null  int64  \n",
      " 25  Beverage Cans                              55082 non-null  int64  \n",
      " 26  Grocery Bags (Plastic)                     55082 non-null  int64  \n",
      " 27  Other Plastic Bags                         55082 non-null  int64  \n",
      " 28  Paper Bags                                 55082 non-null  int64  \n",
      " 29  Cups, Plates (Paper)                       55082 non-null  int64  \n",
      " 30  Cups, Plates (Plastic)                     55082 non-null  int64  \n",
      " 31  Cups, Plates (Foam)                        55082 non-null  int64  \n",
      " 32  Fishing Buoys, Pots & Traps                55082 non-null  int64  \n",
      " 33  Fishing Net & Pieces                       55082 non-null  int64  \n",
      " 34  Fishing Line (1 yard/meter = 1 piece)      55082 non-null  int64  \n",
      " 35  Rope (1 yard/meter = 1 piece)              55082 non-null  int64  \n",
      " 36  Fishing Gear (Clean Swell)                 55082 non-null  int64  \n",
      " 37  6-Pack Holders                             55082 non-null  int64  \n",
      " 38  Other Plastic/Foam Packaging               55082 non-null  int64  \n",
      " 39  Other Plastic Bottles (oil, bleach, etc.)  55082 non-null  int64  \n",
      " 40  Strapping Bands                            55082 non-null  int64  \n",
      " 41  Tobacco Packaging/Wrap                     55082 non-null  int64  \n",
      " 42  Other Packaging (Clean Swell)              55082 non-null  int64  \n",
      " 43  Beverages Sachets                          55082 non-null  int64  \n",
      " 44  Appliances (refrigerators, washers, etc.)  55082 non-null  int64  \n",
      " 45  Balloons                                   55082 non-null  int64  \n",
      " 46  Cigar Tips                                 55082 non-null  int64  \n",
      " 47  Cigarette Lighters                         55082 non-null  int64  \n",
      " 48  Construction Materials                     55082 non-null  int64  \n",
      " 49  Fireworks                                  55082 non-null  int64  \n",
      " 50  Tires                                      55082 non-null  int64  \n",
      " 51  Toys                                       55082 non-null  int64  \n",
      " 52  Other Trash (Clean Swell)                  55082 non-null  int64  \n",
      " 53  E-cigarettes                               55082 non-null  int64  \n",
      " 54  Other tobacco (packaging, lighter, etc.)   55082 non-null  int64  \n",
      " 55  Condoms                                    55082 non-null  int64  \n",
      " 56  Diapers                                    55082 non-null  int64  \n",
      " 57  Syringes                                   55082 non-null  int64  \n",
      " 58  Tampons/Tampon Applicators                 55082 non-null  int64  \n",
      " 59  Personal Hygiene (Clean Swell)             55082 non-null  int64  \n",
      " 60  Gloves & Masks (PPE)                       55082 non-null  int64  \n",
      " 61  Foam Pieces                                55082 non-null  int64  \n",
      " 62  Glass Pieces                               55082 non-null  int64  \n",
      " 63  Plastic Pieces                             55082 non-null  int64  \n",
      " 64  Total Items Collected                      55081 non-null  float64\n",
      "dtypes: float64(7), int64(50), object(8)\n",
      "memory usage: 27.3+ MB\n"
     ]
    }
   ],
   "source": [
    "swell = pd.read_csv('Desktop/Clean Swell- TIDESUnitedStates.csv',low_memory = False)\n",
    "swell.info()"
   ]
  },
  {
   "cell_type": "markdown",
   "metadata": {},
   "source": [
    "# Mergining Litterati Day by Day reports"
   ]
  },
  {
   "cell_type": "code",
   "execution_count": 70,
   "metadata": {},
   "outputs": [
    {
     "name": "stdout",
     "output_type": "stream",
     "text": [
      "<class 'pandas.core.frame.DataFrame'>\n",
      "RangeIndex: 439354 entries, 0 to 439353\n",
      "Data columns (total 5 columns):\n",
      " #   Column               Non-Null Count   Dtype \n",
      "---  ------               --------------   ----- \n",
      " 0   Litter               439354 non-null  int64 \n",
      " 1   Tags                 119234 non-null  object\n",
      " 2   Location (Lat/Long)  439354 non-null  object\n",
      " 3   Country              439354 non-null  object\n",
      " 4   Date                 439354 non-null  object\n",
      "dtypes: int64(1), object(4)\n",
      "memory usage: 16.8+ MB\n"
     ]
    }
   ],
   "source": [
    "from glob import glob\n",
    "filenames = glob('Desktop/Litterati/*.csv')\n",
    "combined_csv = pd.concat([pd.read_csv(f,index_col='Litter') for f in filenames ])\n",
    "#Sort by Litter number\n",
    "combined = combined_csv.sort_values('Litter')\n",
    "#Save the Sorted,  combined csv's as one \"combined.csv\"\n",
    "combined.to_csv( \"Desktop/Litterati/combined.csv\", index=\"False\")\n",
    "#open and analyze combined file\n",
    "data = pd.read_csv('Desktop/Litterati/combined.csv', low_memory = False)\n",
    "data.info()\n"
   ]
  },
  {
   "cell_type": "code",
   "execution_count": null,
   "metadata": {},
   "outputs": [],
   "source": []
  }
 ],
 "metadata": {
  "kernelspec": {
   "display_name": "Python 3",
   "language": "python",
   "name": "python3"
  },
  "language_info": {
   "codemirror_mode": {
    "name": "ipython",
    "version": 3
   },
   "file_extension": ".py",
   "mimetype": "text/x-python",
   "name": "python",
   "nbconvert_exporter": "python",
   "pygments_lexer": "ipython3",
   "version": "3.8.3"
  }
 },
 "nbformat": 4,
 "nbformat_minor": 4
}
