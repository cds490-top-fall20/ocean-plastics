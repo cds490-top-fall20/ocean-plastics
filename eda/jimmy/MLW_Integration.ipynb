{
 "cells": [
  {
   "cell_type": "code",
   "execution_count": 1,
   "metadata": {},
   "outputs": [],
   "source": [
    "import pandas as pd\n",
    "import numpy "
   ]
  },
  {
   "cell_type": "code",
   "execution_count": 2,
   "metadata": {},
   "outputs": [],
   "source": [
    "MLW = pd.read_csv('MLW - MLW.csv') #Problem with encoding of raw csv file. had to upload to google sheets and re-download"
   ]
  },
  {
   "cell_type": "code",
   "execution_count": 3,
   "metadata": {},
   "outputs": [],
   "source": [
    "col = ['X','Y','FID','RecordSequenceID','UniqueID','SourceID','LocationFreqID','Location','Dataset','Organization','Other',\n",
    "'CountryName_FromSource','SubCountry_L1_FromSource','SubCountry_L2_FromSource','Longitude1',\n",
    "'Latitude1','Longitude2','Latitude2','TotalWidth_m',\n",
    "'TotalLength_m','TotalArea_Sq_m','ShorelineName','WaterfrontName','BeachAreaLandcover','BeachType',\n",
    "'EventType','TotalVolunteers','DateOriginal',\n",
    "'DateStandardized','MonthYear','Year','MonthNum','Month',\n",
    "'Day','StartTime',\n",
    "'DOW','FieldObsevations',\n",
    "'DebrisDescription','Totalltems_EventRecord','TotalClassifiedItems_EC2020',\n",
    "'PCT_PlasticAndFoam','PCT_Glass_Rubber_Lumber_Metal','SUM_Hard_PlasticBeverageBottle','SUM_Hard_OtherPlasticBottle','SUM_HardOrSoft_PlasticBottleCap',\n",
    "'SUM_other_PlasticOrFoamFoodContainer',\n",
    "'SUM_Hard_BucketOrCrate','SUM_Hard_Lighter','SUM_OtherHardPlastic','SUM_PlasticOrFoamPlatesBowlsCup','SUM_HardSoft_PersonalCareProduc',\n",
    "'SUM_Hard_LollipopStick_EarBu','SUM_Soft_Bag','SUM_Soft_WrapperOrLabel','SUM_Soft_Straw','SUM_Soft_OtherPlastic','SUM_Soft_CigaretteButts','SUM_Other_StringRingRibbon',\n",
    "'SUM_Other__Net','SUM_Other_FishingLineLureRope','SUM_other_BuoysAndFloats','SUM_Foam_OtherPlasticDebris','SUM_Other_OtherPlasticDebris','NAME','COUNTRY','ISO_CODE',\n",
    "'ISO_CC','ISO_SUB',\n",
    "'ADMINTYPE','DISPUTED','NOTES','AUTONOMOUS',\n",
    "'COUNTRYAFF','CONTINENT','LAND_TYPE','LAND_RANK','Shape__Area','Shape__Length','Count_',\n",
    "'Soft_sheets','Other_StrapsTiesBands','Other_Glowsticks','OtherFishing']"
   ]
  },
  {
   "cell_type": "code",
   "execution_count": 4,
   "metadata": {},
   "outputs": [],
   "source": [
    "df = pd.DataFrame(columns = col) #Creating our new dataframe in EC2020 schema"
   ]
  },
  {
   "cell_type": "code",
   "execution_count": 5,
   "metadata": {},
   "outputs": [],
   "source": [
    "MLW.fillna(0, inplace = True) #replace NaN with 0 for analysis"
   ]
  },
  {
   "cell_type": "code",
   "execution_count": 6,
   "metadata": {},
   "outputs": [],
   "source": [
    "df['X'] = MLW.iloc[:,10]"
   ]
  },
  {
   "cell_type": "code",
   "execution_count": 7,
   "metadata": {},
   "outputs": [],
   "source": [
    "df['Y'] = MLW.iloc[:,11]"
   ]
  },
  {
   "cell_type": "code",
   "execution_count": 8,
   "metadata": {},
   "outputs": [],
   "source": [
    "df['Totalltems_EventRecord'] = MLW.iloc[:,14:176].sum(axis=1) #38"
   ]
  },
  {
   "cell_type": "code",
   "execution_count": 9,
   "metadata": {},
   "outputs": [],
   "source": [
    "df['TotalClassifiedItems_EC2020'] = MLW.iloc[:,14:104].sum(axis=1) #39"
   ]
  },
  {
   "cell_type": "code",
   "execution_count": 10,
   "metadata": {},
   "outputs": [],
   "source": [
    "df['PCT_PlasticAndFoam'] = MLW.iloc[:,14:104].sum(axis=1) / MLW.iloc[:,14:176].sum(axis=1) #40"
   ]
  },
  {
   "cell_type": "code",
   "execution_count": 11,
   "metadata": {},
   "outputs": [],
   "source": [
    "df['PCT_Glass_Rubber_Lumber_Metal'] = MLW.iloc[:,104:176].sum(axis=1) / MLW.iloc[:,14:176].sum(axis=1) #41"
   ]
  },
  {
   "cell_type": "code",
   "execution_count": 12,
   "metadata": {},
   "outputs": [],
   "source": [
    "df['SUM_Hard_PlasticBeverageBottle'] = MLW.iloc[:,18:20].sum(axis=1) #42"
   ]
  },
  {
   "cell_type": "code",
   "execution_count": 13,
   "metadata": {},
   "outputs": [],
   "source": [
    "df.iloc[:,43] = MLW.iloc[:,20] + MLW.iloc[:,22:29].sum(axis=1)"
   ]
  },
  {
   "cell_type": "code",
   "execution_count": 14,
   "metadata": {},
   "outputs": [],
   "source": [
    "df.iloc[:,44] = MLW.iloc[:,31:34].sum(axis=1)\n",
    "df.iloc[:,45] = MLW.iloc[:,21]\n",
    "df.iloc[:,46] = MLW.iloc[:,29] + MLW.iloc[:,69]\n",
    "df.iloc[:,47] = MLW.iloc[:,36]\n",
    "df.iloc[:,48] = MLW.iloc[:,30] + MLW.iloc[:,38] + MLW.iloc[:,42] + MLW.iloc[:,68] + MLW.iloc[:,73:75].sum(axis=1) + MLW.iloc[:,84] + MLW.iloc[:,88] + MLW.iloc[:,90]"
   ]
  },
  {
   "cell_type": "code",
   "execution_count": 15,
   "metadata": {},
   "outputs": [],
   "source": [
    "df.iloc[:,49] = MLW.iloc[:,43:45].sum(axis=1)"
   ]
  },
  {
   "cell_type": "code",
   "execution_count": 16,
   "metadata": {},
   "outputs": [],
   "source": [
    "df.iloc[:,50] = MLW.iloc[:,39] + MLW.iloc[:,95] + MLW.iloc[:,97:100].sum(axis=1)"
   ]
  },
  {
   "cell_type": "code",
   "execution_count": 17,
   "metadata": {},
   "outputs": [],
   "source": [
    "df.iloc[:,51] = MLW.iloc[:,41] + MLW.iloc[:,94]\n",
    "df.iloc[:,52] = MLW.iloc[:,90] + MLW.iloc[:,15:18].sum(axis=1) + MLW.iloc[:,46:48].sum(axis=1)\n",
    "df.iloc[:,53] = MLW.iloc[:,35] + MLW.iloc[:,40] + MLW.iloc[:,85]\n",
    "df.iloc[:,54] = MLW.iloc[:,45]\n",
    "df.iloc[:,55] = MLW.iloc[:,48] + MLW.iloc[:,87] + MLW.iloc[:,92]\n",
    "df.iloc[:,56] = MLW.iloc[:,32]\n",
    "df.iloc[:,57] = MLW.iloc[:,14] + MLW.iloc[:,34]\n",
    "df.iloc[:,58] = MLW.iloc[:,53] + MLW.iloc[:,58:62].sum(axis=1)\n",
    "df.iloc[:,59] = MLW.iloc[:,64] + MLW.iloc[:,56:58].sum(axis=1)\n",
    "df.iloc[:,60] = MLW.iloc[:,66:68].sum(axis=1)\n",
    "#no data in 61\n",
    "df.iloc[:,62] = MLW.iloc[:,49:53].sum(axis=1) + MLW.iloc[:,54] + MLW.iloc[:,62:64].sum(axis=1) + MLW.iloc[:,77:84].sum(axis=1) + MLW.iloc[:,101:103].sum(axis=1) + MLW.iloc[:,86] + MLW.iloc[:,89] + MLW.iloc[:,91] + MLW.iloc[:,96]"
   ]
  },
  {
   "cell_type": "code",
   "execution_count": 18,
   "metadata": {},
   "outputs": [],
   "source": [
    "df.iloc[:,79] = MLW.iloc[:,55] + MLW.iloc[:,71]\n",
    "df.iloc[:,80] = MLW.iloc[:,70] + MLW.iloc[:,93]\n",
    "df.iloc[:,81] = MLW.iloc[:,66] "
   ]
  },
  {
   "cell_type": "code",
   "execution_count": 19,
   "metadata": {},
   "outputs": [],
   "source": [
    "df.iloc[:,9] = MLW.iloc[:,0] \n",
    "df.iloc[:,11] = MLW.iloc[:,2]\n",
    "df.iloc[:,14] = MLW.iloc[:,10] \n",
    "df.iloc[:,15] = MLW.iloc[:,11] \n",
    "df.iloc[:,16] = MLW.iloc[:,12] \n",
    "df.iloc[:,17] = MLW.iloc[:,13] "
   ]
  },
  {
   "cell_type": "code",
   "execution_count": 20,
   "metadata": {},
   "outputs": [],
   "source": [
    "df.iloc[:,19] = MLW.iloc[:,4] \n",
    "df.iloc[:,23] = MLW.iloc[:,5] \n",
    "df.iloc[:,24] = MLW.iloc[:,6] \n",
    "df.iloc[:,25] = MLW.iloc[:,8] "
   ]
  },
  {
   "cell_type": "code",
   "execution_count": 21,
   "metadata": {},
   "outputs": [],
   "source": [
    "df.iloc[:,27] = MLW.iloc[:,7] "
   ]
  },
  {
   "cell_type": "code",
   "execution_count": 22,
   "metadata": {},
   "outputs": [],
   "source": [
    "MLW['EventDate'] = MLW['EventDate'].apply(str)"
   ]
  },
  {
   "cell_type": "code",
   "execution_count": 23,
   "metadata": {},
   "outputs": [],
   "source": [
    "df.iloc[:,21] = MLW.iloc[:,3] "
   ]
  },
  {
   "cell_type": "code",
   "execution_count": 24,
   "metadata": {},
   "outputs": [],
   "source": [
    "df.iloc[:,28] = MLW.EventDate.str[6:8] + '/' + MLW.EventDate.str[4:6] + '/' + MLW.EventDate.str[:4]"
   ]
  },
  {
   "cell_type": "code",
   "execution_count": 25,
   "metadata": {},
   "outputs": [],
   "source": [
    "#df.iloc[:,29]\n",
    "df.iloc[:,30] = MLW.EventDate.str[:4]   #year\n",
    "df.iloc[:,31] = MLW.EventDate.str[6:8]  #month\n",
    "#df.iloc[:,32]\n",
    "df.iloc[:,33] = MLW.EventDate.str[4:6]  #date"
   ]
  },
  {
   "cell_type": "code",
   "execution_count": 27,
   "metadata": {},
   "outputs": [],
   "source": [
    "df.to_csv('MLW_to_EC2020.csv', index=False)"
   ]
  },
  {
   "cell_type": "code",
   "execution_count": null,
   "metadata": {},
   "outputs": [],
   "source": []
  }
 ],
 "metadata": {
  "kernelspec": {
   "display_name": "Python 3",
   "language": "python",
   "name": "python3"
  },
  "language_info": {
   "codemirror_mode": {
    "name": "ipython",
    "version": 3
   },
   "file_extension": ".py",
   "mimetype": "text/x-python",
   "name": "python",
   "nbconvert_exporter": "python",
   "pygments_lexer": "ipython3",
   "version": "3.7.4"
  }
 },
 "nbformat": 4,
 "nbformat_minor": 4
}
