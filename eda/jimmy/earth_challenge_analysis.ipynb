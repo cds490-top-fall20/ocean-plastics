{
 "cells": [
  {
   "cell_type": "code",
   "execution_count": 128,
   "metadata": {},
   "outputs": [],
   "source": [
    "import os\n",
    "import csv\n",
    "from collections import Counter\n",
    "import matplotlib.pyplot as plt\n",
    "%matplotlib inline\n",
    "import numpy as np"
   ]
  },
  {
   "cell_type": "code",
   "execution_count": 129,
   "metadata": {},
   "outputs": [],
   "source": [
    "import pandas as pd"
   ]
  },
  {
   "cell_type": "code",
   "execution_count": 21,
   "metadata": {},
   "outputs": [],
   "source": [
    "ls = []\n",
    "with open(\"earth_challenge.csv\", newline = '') as f:                                                                                          \n",
    "    line = csv.reader(f, delimiter=',')\n",
    "    for i in line:\n",
    "        ls.append(i)"
   ]
  },
  {
   "cell_type": "code",
   "execution_count": 198,
   "metadata": {},
   "outputs": [
    {
     "data": {
      "text/plain": [
       "82"
      ]
     },
     "execution_count": 198,
     "metadata": {},
     "output_type": "execute_result"
    }
   ],
   "source": [
    "ls[0].index('FishingOtherPlasticDebris2')"
   ]
  },
  {
   "cell_type": "code",
   "execution_count": 52,
   "metadata": {},
   "outputs": [],
   "source": [
    "countries = []\n",
    "\n",
    "for i in range(1,len(ls)):\n",
    "    countries.append((ls[i][64]))"
   ]
  },
  {
   "cell_type": "code",
   "execution_count": 237,
   "metadata": {},
   "outputs": [],
   "source": [
    "#ls[0]"
   ]
  },
  {
   "cell_type": "code",
   "execution_count": 75,
   "metadata": {},
   "outputs": [],
   "source": [
    "uni_country = dict(Counter(countries)) # equals to list(set(words))"
   ]
  },
  {
   "cell_type": "code",
   "execution_count": 99,
   "metadata": {},
   "outputs": [],
   "source": [
    "#uni_country"
   ]
  },
  {
   "cell_type": "code",
   "execution_count": 77,
   "metadata": {},
   "outputs": [],
   "source": [
    "years = []\n",
    "\n",
    "for i in range(1,len(ls)):\n",
    "    years.append((ls[i][30]))"
   ]
  },
  {
   "cell_type": "code",
   "execution_count": 78,
   "metadata": {},
   "outputs": [],
   "source": [
    "uni_years = dict(Counter(years)) "
   ]
  },
  {
   "cell_type": "code",
   "execution_count": 79,
   "metadata": {},
   "outputs": [
    {
     "data": {
      "text/plain": [
       "{'2015': 1933, '2016': 11141, '2017': 16529, '2018': 24785}"
      ]
     },
     "execution_count": 79,
     "metadata": {},
     "output_type": "execute_result"
    }
   ],
   "source": [
    "uni_years"
   ]
  },
  {
   "cell_type": "code",
   "execution_count": 163,
   "metadata": {},
   "outputs": [],
   "source": [
    "Earth_data = pd.read_csv('earth_challenge.csv', index_col = 2)"
   ]
  },
  {
   "cell_type": "code",
   "execution_count": 164,
   "metadata": {},
   "outputs": [
    {
     "data": {
      "text/plain": [
       "54388"
      ]
     },
     "execution_count": 164,
     "metadata": {},
     "output_type": "execute_result"
    }
   ],
   "source": [
    "len(Earth_data)"
   ]
  },
  {
   "cell_type": "code",
   "execution_count": 238,
   "metadata": {},
   "outputs": [],
   "source": [
    "#Earth_data.iloc[0:3]"
   ]
  },
  {
   "cell_type": "code",
   "execution_count": 167,
   "metadata": {},
   "outputs": [],
   "source": [
    "US_pn = Earth_data[Earth_data['COUNTRY'] == 'United States']"
   ]
  },
  {
   "cell_type": "code",
   "execution_count": 169,
   "metadata": {},
   "outputs": [
    {
     "data": {
      "text/plain": [
       "30964"
      ]
     },
     "execution_count": 169,
     "metadata": {},
     "output_type": "execute_result"
    }
   ],
   "source": [
    "len(US_pn)"
   ]
  },
  {
   "cell_type": "code",
   "execution_count": 239,
   "metadata": {},
   "outputs": [],
   "source": [
    "#US2015"
   ]
  },
  {
   "cell_type": "code",
   "execution_count": 173,
   "metadata": {},
   "outputs": [],
   "source": [
    "US2015 = US_pn[US_pn['Year'] == 2015]\n",
    "US2016 = US_pn[US_pn['Year'] == 2016]\n",
    "US2017 = US_pn[US_pn['Year'] == 2017]\n",
    "US2018 = US_pn[US_pn['Year'] == 2018]"
   ]
  },
  {
   "cell_type": "code",
   "execution_count": 240,
   "metadata": {},
   "outputs": [],
   "source": [
    "# print(US2015.iloc[:, 41:62].sum(axis=0))\n",
    "# print(US2015.iloc[:, 78:82].sum(axis=0))"
   ]
  },
  {
   "cell_type": "code",
   "execution_count": 207,
   "metadata": {},
   "outputs": [],
   "source": [
    "US_2015sum = US2015.iloc[:, 41:62].sum(axis=0)"
   ]
  },
  {
   "cell_type": "code",
   "execution_count": 220,
   "metadata": {},
   "outputs": [],
   "source": [
    "US_2015sum = US_2015sum.append(US2015.iloc[:, 78:82].sum(axis=0))"
   ]
  },
  {
   "cell_type": "code",
   "execution_count": 221,
   "metadata": {},
   "outputs": [
    {
     "data": {
      "text/plain": [
       "SUM_Hard_PlasticBeverageBottle      5030.0\n",
       "SUM_Hard_OtherPlasticBottle         1203.0\n",
       "SUM_HardOrSoft_PlasticBottleCap    12908.0\n",
       "SUM_PlasticOrFoamFoodContainer      2056.0\n",
       "SUM_Hard_BucketOrCrate                 0.0\n",
       "SUM_Hard_Lighter                     300.0\n",
       "SUM_OtherHardPlastic               23830.0\n",
       "SUM_PlasticOrFoamPlatesBowlsCup     2786.0\n",
       "SUM_HardSoft_PersonalCareProduc     1150.0\n",
       "SUM_HardSoftLollipopStick_EarBu        0.0\n",
       "SUM_Soft_Bag                        3033.0\n",
       "SUM_Soft_WrapperOrLabel             9338.0\n",
       "SUM_Soft_Straw                      3511.0\n",
       "SUM_Soft_OtherPlastic              10251.0\n",
       "SUM_Soft_CigaretteButts            20533.0\n",
       "SUM_Soft_StringRingRibbon             95.0\n",
       "Fishing_Net                         6135.0\n",
       "SUM_FishingLineLureRope             2971.0\n",
       "Fishing_BuoysAndFloats               524.0\n",
       "SUM_Foam_OtherPlasticDebris        20240.0\n",
       "SUM_OtherPlasticDebris             21929.0\n",
       "Soft_Sheets2                           0.0\n",
       "PlasticStraps2                       230.0\n",
       "FishingGlowSticks2                     0.0\n",
       "FishingOtherPlasticDebris2             0.0\n",
       "dtype: float64"
      ]
     },
     "execution_count": 221,
     "metadata": {},
     "output_type": "execute_result"
    }
   ],
   "source": [
    "US_2015sum"
   ]
  },
  {
   "cell_type": "code",
   "execution_count": 236,
   "metadata": {},
   "outputs": [
    {
     "name": "stdout",
     "output_type": "stream",
     "text": [
      "1426\n",
      "148053.0\n",
      "103.82398316970547\n"
     ]
    },
    {
     "data": {
      "image/png": "[encoded data removed]",
      "text/plain": [
       "<Figure size 432x288 with 1 Axes>"
      ]
     },
     "metadata": {
      "needs_background": "light"
     },
     "output_type": "display_data"
    }
   ],
   "source": [
    "US_2015sum.plot.bar(rot=0)\n",
    "print(len(US2015))\n",
    "print(US_2015sum.sum())\n",
    "print(US_2015sum.sum() / len(US2015))"
   ]
  },
  {
   "cell_type": "code",
   "execution_count": 235,
   "metadata": {},
   "outputs": [
    {
     "name": "stdout",
     "output_type": "stream",
     "text": [
      "6879\n",
      "3939110.0\n",
      "572.6282889954936\n"
     ]
    },
    {
     "data": {
      "image/png": "[encoded data removed]",
      "text/plain": [
       "<Figure size 432x288 with 1 Axes>"
      ]
     },
     "metadata": {
      "needs_background": "light"
     },
     "output_type": "display_data"
    }
   ],
   "source": [
    "US_2016sum = US2016.iloc[:, 41:62].sum(axis=0)\n",
    "US_2016sum = US_2016sum.append(US2016.iloc[:, 78:82].sum(axis=0))\n",
    "US_2016sum.plot.bar(rot=0)\n",
    "print(len(US2016))\n",
    "print(US_2016sum.sum())\n",
    "print(US_2016sum.sum() / len(US2016))"
   ]
  },
  {
   "cell_type": "code",
   "execution_count": 234,
   "metadata": {},
   "outputs": [
    {
     "name": "stdout",
     "output_type": "stream",
     "text": [
      "9846\n",
      "5638553.0\n",
      "572.6744871013609\n"
     ]
    },
    {
     "data": {
      "image/png": "[encoded data removed]",
      "text/plain": [
       "<Figure size 432x288 with 1 Axes>"
      ]
     },
     "metadata": {
      "needs_background": "light"
     },
     "output_type": "display_data"
    }
   ],
   "source": [
    "US_2017sum = US2017.iloc[:, 41:62].sum(axis=0)\n",
    "US_2017sum = US_2017sum.append(US2017.iloc[:, 78:82].sum(axis=0))\n",
    "US_2017sum.plot.bar(rot=0)\n",
    "print(len(US2017))\n",
    "print(US_2017sum.sum())\n",
    "print(US_2017sum.sum() / len(US2017))"
   ]
  },
  {
   "cell_type": "code",
   "execution_count": 233,
   "metadata": {},
   "outputs": [
    {
     "name": "stdout",
     "output_type": "stream",
     "text": [
      "12813\n",
      "5682409.0\n",
      "443.4877858425037\n"
     ]
    },
    {
     "data": {
      "image/png": "[encoded data removed]",
      "text/plain": [
       "<Figure size 432x288 with 1 Axes>"
      ]
     },
     "metadata": {
      "needs_background": "light"
     },
     "output_type": "display_data"
    }
   ],
   "source": [
    "US_2018sum = US2018.iloc[:, 41:62].sum(axis=0)\n",
    "US_2018sum = US_2018sum.append(US2018.iloc[:, 78:82].sum(axis=0))\n",
    "US_2018sum.plot.bar(rot=0)\n",
    "print(len(US2018))\n",
    "print(US_2018sum.sum())\n",
    "print(US_2018sum.sum() / len(US2018))"
   ]
  },
  {
   "cell_type": "code",
   "execution_count": null,
   "metadata": {},
   "outputs": [],
   "source": []
  }
 ],
 "metadata": {
  "kernelspec": {
   "display_name": "Python 3",
   "language": "python",
   "name": "python3"
  },
  "language_info": {
   "codemirror_mode": {
    "name": "ipython",
    "version": 3
   },
   "file_extension": ".py",
   "mimetype": "text/x-python",
   "name": "python",
   "nbconvert_exporter": "python",
   "pygments_lexer": "ipython3",
   "version": "3.7.4"
  }
 },
 "nbformat": 4,
 "nbformat_minor": 4
}
