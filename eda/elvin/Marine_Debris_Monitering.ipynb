{
 "cells": [
  {
   "cell_type": "markdown",
   "metadata": {},
   "source": [
    "So for the marine and Debris Monitering Assesment Project, there were two datasets given by the TOP\n",
    "site. One was from Earth Challenge and the other from National Oceanic and Atmospheric Adminstration (NOAA). The one from Earth Challenge presented broken links so the one fron NOAA was examined."
   ]
  },
  {
   "cell_type": "markdown",
   "metadata": {},
   "source": [
    "Something to note about this data set, it is a composite of survey data given by voulnteer scientist. These surveys are verifed and include photos (something I thought was pretty neat, not sure if it has relevancy as to what we are trying to accomplish)."
   ]
  },
  {
   "cell_type": "markdown",
   "metadata": {},
   "source": [
    "#### Custom Tab in NOAA Marine Debris Program \n",
    "\n",
    "The Custom Data tab is where users can add unique debris types to their datasheets within the framework of the debris types on the standard datasheet. This feature will allow users to track data on debris items that may be locally relevant but are less common on a national scale. For example, a common debris item in Alaska is plastic strapping bands. Although NOAA does not include “strapping bands” on the standard debris data sheet, a user could define it as a custom debris item under the parent category “Plastic – Other”. Custom debris item data can be exported as a separate report – see “Reporting Tab” below."
   ]
  },
  {
   "cell_type": "markdown",
   "metadata": {},
   "source": [
    "#### Reporting Data Tab \n",
    "\n",
    "Also for different ways to extract data, Accumlation (flux data), Standing-stock(concentration data), standing stock (raw data), and Large Items.\n",
    "\n",
    "For this data exploration i'll be using the standing stock data for Virginia's coast line on the last four years. Note: more data from all of the east coast can be obtains an analyzed. For this sprint will only be focused on VA to get a small understanding of the data avaliable.\n"
   ]
  },
  {
   "cell_type": "markdown",
   "metadata": {},
   "source": [
    "#### Exploring the standing stock (Raw Data)"
   ]
  },
  {
   "cell_type": "code",
   "execution_count": 11,
   "metadata": {},
   "outputs": [],
   "source": [
    "import pandas as pd\n",
    "import numpy as np\n",
    "import matplotlib.pyplot as plt"
   ]
  },
  {
   "cell_type": "code",
   "execution_count": 12,
   "metadata": {},
   "outputs": [],
   "source": [
    "raw_data = pd.read_csv(\"MDD-Reports/RawStandingStockReport.csv\")"
   ]
  },
  {
   "cell_type": "code",
   "execution_count": 13,
   "metadata": {},
   "outputs": [
    {
     "data": {
      "text/html": [
       "<div>\n",
       "<style scoped>\n",
       "    .dataframe tbody tr th:only-of-type {\n",
       "        vertical-align: middle;\n",
       "    }\n",
       "\n",
       "    .dataframe tbody tr th {\n",
       "        vertical-align: top;\n",
       "    }\n",
       "\n",
       "    .dataframe thead th {\n",
       "        text-align: right;\n",
       "    }\n",
       "</style>\n",
       "<table border=\"1\" class=\"dataframe\">\n",
       "  <thead>\n",
       "    <tr style=\"text-align: right;\">\n",
       "      <th></th>\n",
       "      <th>Survey Type</th>\n",
       "      <th>Organization</th>\n",
       "      <th>Date</th>\n",
       "      <th>Survey Year</th>\n",
       "      <th>Country</th>\n",
       "      <th>State</th>\n",
       "      <th>County</th>\n",
       "      <th>Survey ID</th>\n",
       "      <th>MDMAP ID #</th>\n",
       "      <th>Transect ID</th>\n",
       "      <th>...</th>\n",
       "      <th>Cloth/Fabric</th>\n",
       "      <th>Clothing &amp; Shoes</th>\n",
       "      <th>Gloves (non-rubber)</th>\n",
       "      <th>Towels/Rags</th>\n",
       "      <th>Rope/Net Pieces (non-nylon)</th>\n",
       "      <th>Fabric Pieces</th>\n",
       "      <th>Cloth/Fabric Other</th>\n",
       "      <th>Unclassified</th>\n",
       "      <th>Total</th>\n",
       "      <th>Debris Description</th>\n",
       "    </tr>\n",
       "  </thead>\n",
       "  <tbody>\n",
       "    <tr>\n",
       "      <th>0</th>\n",
       "      <td>Standing-Stock</td>\n",
       "      <td>Clean Virginia Waterways/Longwood University</td>\n",
       "      <td>09-19-2016</td>\n",
       "      <td>Year 3</td>\n",
       "      <td>United States</td>\n",
       "      <td>VA</td>\n",
       "      <td>VA Beach</td>\n",
       "      <td>6072</td>\n",
       "      <td>164</td>\n",
       "      <td>16</td>\n",
       "      <td>...</td>\n",
       "      <td>0</td>\n",
       "      <td>0</td>\n",
       "      <td>0</td>\n",
       "      <td>0</td>\n",
       "      <td>0</td>\n",
       "      <td>0</td>\n",
       "      <td>0</td>\n",
       "      <td>0</td>\n",
       "      <td>4</td>\n",
       "      <td>NaN</td>\n",
       "    </tr>\n",
       "    <tr>\n",
       "      <th>1</th>\n",
       "      <td>Standing-Stock</td>\n",
       "      <td>Clean Virginia Waterways/Longwood University</td>\n",
       "      <td>09-19-2016</td>\n",
       "      <td>Year 3</td>\n",
       "      <td>United States</td>\n",
       "      <td>VA</td>\n",
       "      <td>VA Beach</td>\n",
       "      <td>6073</td>\n",
       "      <td>164</td>\n",
       "      <td>17</td>\n",
       "      <td>...</td>\n",
       "      <td>0</td>\n",
       "      <td>0</td>\n",
       "      <td>0</td>\n",
       "      <td>0</td>\n",
       "      <td>0</td>\n",
       "      <td>0</td>\n",
       "      <td>0</td>\n",
       "      <td>0</td>\n",
       "      <td>0</td>\n",
       "      <td>NaN</td>\n",
       "    </tr>\n",
       "    <tr>\n",
       "      <th>2</th>\n",
       "      <td>Standing-Stock</td>\n",
       "      <td>Clean Virginia Waterways/Longwood University</td>\n",
       "      <td>09-19-2016</td>\n",
       "      <td>Year 3</td>\n",
       "      <td>United States</td>\n",
       "      <td>VA</td>\n",
       "      <td>VA Beach</td>\n",
       "      <td>6074</td>\n",
       "      <td>164</td>\n",
       "      <td>18</td>\n",
       "      <td>...</td>\n",
       "      <td>0</td>\n",
       "      <td>0</td>\n",
       "      <td>0</td>\n",
       "      <td>0</td>\n",
       "      <td>0</td>\n",
       "      <td>0</td>\n",
       "      <td>0</td>\n",
       "      <td>0</td>\n",
       "      <td>0</td>\n",
       "      <td>NaN</td>\n",
       "    </tr>\n",
       "    <tr>\n",
       "      <th>3</th>\n",
       "      <td>Standing-Stock</td>\n",
       "      <td>Clean Virginia Waterways/Longwood University</td>\n",
       "      <td>09-19-2016</td>\n",
       "      <td>Year 3</td>\n",
       "      <td>United States</td>\n",
       "      <td>VA</td>\n",
       "      <td>VA Beach</td>\n",
       "      <td>6075</td>\n",
       "      <td>164</td>\n",
       "      <td>19</td>\n",
       "      <td>...</td>\n",
       "      <td>0</td>\n",
       "      <td>0</td>\n",
       "      <td>0</td>\n",
       "      <td>0</td>\n",
       "      <td>0</td>\n",
       "      <td>0</td>\n",
       "      <td>0</td>\n",
       "      <td>0</td>\n",
       "      <td>2</td>\n",
       "      <td>NaN</td>\n",
       "    </tr>\n",
       "    <tr>\n",
       "      <th>4</th>\n",
       "      <td>Standing-Stock</td>\n",
       "      <td>Clean Virginia Waterways/Longwood University</td>\n",
       "      <td>09-28-2016</td>\n",
       "      <td>Year 3</td>\n",
       "      <td>United States</td>\n",
       "      <td>VA</td>\n",
       "      <td>Accomack</td>\n",
       "      <td>6185</td>\n",
       "      <td>170</td>\n",
       "      <td>3</td>\n",
       "      <td>...</td>\n",
       "      <td>0</td>\n",
       "      <td>0</td>\n",
       "      <td>0</td>\n",
       "      <td>0</td>\n",
       "      <td>0</td>\n",
       "      <td>0</td>\n",
       "      <td>0</td>\n",
       "      <td>0</td>\n",
       "      <td>12</td>\n",
       "      <td>NaN</td>\n",
       "    </tr>\n",
       "  </tbody>\n",
       "</table>\n",
       "<p>5 rows × 86 columns</p>\n",
       "</div>"
      ],
      "text/plain": [
       "      Survey Type                                  Organization        Date  \\\n",
       "0  Standing-Stock  Clean Virginia Waterways/Longwood University  09-19-2016   \n",
       "1  Standing-Stock  Clean Virginia Waterways/Longwood University  09-19-2016   \n",
       "2  Standing-Stock  Clean Virginia Waterways/Longwood University  09-19-2016   \n",
       "3  Standing-Stock  Clean Virginia Waterways/Longwood University  09-19-2016   \n",
       "4  Standing-Stock  Clean Virginia Waterways/Longwood University  09-28-2016   \n",
       "\n",
       "  Survey Year        Country State    County  Survey ID  MDMAP ID #  \\\n",
       "0      Year 3  United States    VA  VA Beach       6072         164   \n",
       "1      Year 3  United States    VA  VA Beach       6073         164   \n",
       "2      Year 3  United States    VA  VA Beach       6074         164   \n",
       "3      Year 3  United States    VA  VA Beach       6075         164   \n",
       "4      Year 3  United States    VA  Accomack       6185         170   \n",
       "\n",
       "   Transect ID  ... Cloth/Fabric  Clothing & Shoes  Gloves (non-rubber)  \\\n",
       "0           16  ...            0                 0                    0   \n",
       "1           17  ...            0                 0                    0   \n",
       "2           18  ...            0                 0                    0   \n",
       "3           19  ...            0                 0                    0   \n",
       "4            3  ...            0                 0                    0   \n",
       "\n",
       "   Towels/Rags  Rope/Net Pieces (non-nylon)  Fabric Pieces  \\\n",
       "0            0                            0              0   \n",
       "1            0                            0              0   \n",
       "2            0                            0              0   \n",
       "3            0                            0              0   \n",
       "4            0                            0              0   \n",
       "\n",
       "   Cloth/Fabric Other  Unclassified Total Debris Description  \n",
       "0                   0             0     4                NaN  \n",
       "1                   0             0     0                NaN  \n",
       "2                   0             0     0                NaN  \n",
       "3                   0             0     2                NaN  \n",
       "4                   0             0    12                NaN  \n",
       "\n",
       "[5 rows x 86 columns]"
      ]
     },
     "execution_count": 13,
     "metadata": {},
     "output_type": "execute_result"
    }
   ],
   "source": [
    "raw_data.head()"
   ]
  },
  {
   "cell_type": "code",
   "execution_count": 14,
   "metadata": {},
   "outputs": [
    {
     "data": {
      "text/plain": [
       "0      09-19-2016\n",
       "1      09-19-2016\n",
       "2      09-19-2016\n",
       "3      09-19-2016\n",
       "4      09-28-2016\n",
       "          ...    \n",
       "339    06-21-2018\n",
       "340    04-25-2018\n",
       "341    04-25-2018\n",
       "342    04-25-2018\n",
       "343    04-25-2018\n",
       "Name: Date, Length: 344, dtype: object"
      ]
     },
     "execution_count": 14,
     "metadata": {},
     "output_type": "execute_result"
    }
   ],
   "source": [
    "raw_data[\"Date\"]"
   ]
  },
  {
   "cell_type": "code",
   "execution_count": 17,
   "metadata": {},
   "outputs": [
    {
     "data": {
      "image/png": "[encoded data removed]",
      "text/plain": [
       "<Figure size 640x480 with 1 Axes>"
      ]
     },
     "metadata": {},
     "output_type": "display_data"
    }
   ],
   "source": [
    "#How would you aggergate the date by and display the total?\n",
    "plt.rcdefaults()\n",
    "fig, ax = plt.subplots()\n",
    "\n",
    "y_pos = np.arange(len(raw_data[\"Date\"]))\n",
    "ax.barh(y_pos, raw_data[\"Total\"])\n",
    "ax.set_yticks(y_pos)\n",
    "ax.set_yticklabels(raw_data[\"Date\"])\n",
    "ax.set_xlabel('Total Number of Plastic Items')\n",
    "plt.show()"
   ]
  },
  {
   "cell_type": "code",
   "execution_count": 54,
   "metadata": {},
   "outputs": [
    {
     "data": {
      "text/html": [
       "<div>\n",
       "<style scoped>\n",
       "    .dataframe tbody tr th:only-of-type {\n",
       "        vertical-align: middle;\n",
       "    }\n",
       "\n",
       "    .dataframe tbody tr th {\n",
       "        vertical-align: top;\n",
       "    }\n",
       "\n",
       "    .dataframe thead th {\n",
       "        text-align: right;\n",
       "    }\n",
       "</style>\n",
       "<table border=\"1\" class=\"dataframe\">\n",
       "  <thead>\n",
       "    <tr style=\"text-align: right;\">\n",
       "      <th></th>\n",
       "      <th>Date</th>\n",
       "      <th>Total</th>\n",
       "    </tr>\n",
       "  </thead>\n",
       "  <tbody>\n",
       "    <tr>\n",
       "      <th>0</th>\n",
       "      <td>09-19-2016</td>\n",
       "      <td>4</td>\n",
       "    </tr>\n",
       "    <tr>\n",
       "      <th>1</th>\n",
       "      <td>09-19-2016</td>\n",
       "      <td>0</td>\n",
       "    </tr>\n",
       "    <tr>\n",
       "      <th>2</th>\n",
       "      <td>09-19-2016</td>\n",
       "      <td>0</td>\n",
       "    </tr>\n",
       "    <tr>\n",
       "      <th>3</th>\n",
       "      <td>09-19-2016</td>\n",
       "      <td>2</td>\n",
       "    </tr>\n",
       "    <tr>\n",
       "      <th>4</th>\n",
       "      <td>09-28-2016</td>\n",
       "      <td>12</td>\n",
       "    </tr>\n",
       "    <tr>\n",
       "      <th>...</th>\n",
       "      <td>...</td>\n",
       "      <td>...</td>\n",
       "    </tr>\n",
       "    <tr>\n",
       "      <th>339</th>\n",
       "      <td>06-21-2018</td>\n",
       "      <td>27</td>\n",
       "    </tr>\n",
       "    <tr>\n",
       "      <th>340</th>\n",
       "      <td>04-25-2018</td>\n",
       "      <td>2</td>\n",
       "    </tr>\n",
       "    <tr>\n",
       "      <th>341</th>\n",
       "      <td>04-25-2018</td>\n",
       "      <td>5</td>\n",
       "    </tr>\n",
       "    <tr>\n",
       "      <th>342</th>\n",
       "      <td>04-25-2018</td>\n",
       "      <td>7</td>\n",
       "    </tr>\n",
       "    <tr>\n",
       "      <th>343</th>\n",
       "      <td>04-25-2018</td>\n",
       "      <td>5</td>\n",
       "    </tr>\n",
       "  </tbody>\n",
       "</table>\n",
       "<p>344 rows × 2 columns</p>\n",
       "</div>"
      ],
      "text/plain": [
       "           Date  Total\n",
       "0    09-19-2016      4\n",
       "1    09-19-2016      0\n",
       "2    09-19-2016      0\n",
       "3    09-19-2016      2\n",
       "4    09-28-2016     12\n",
       "..          ...    ...\n",
       "339  06-21-2018     27\n",
       "340  04-25-2018      2\n",
       "341  04-25-2018      5\n",
       "342  04-25-2018      7\n",
       "343  04-25-2018      5\n",
       "\n",
       "[344 rows x 2 columns]"
      ]
     },
     "execution_count": 54,
     "metadata": {},
     "output_type": "execute_result"
    }
   ],
   "source": [
    "#How to get the date and total column in one data frame, then aggergate all the totals for the same dates under of instance of that date\n",
    "\n",
    "date_total = raw_data[[\"Date\",\"Total\"]]\n",
    "date_total"
   ]
  },
  {
   "cell_type": "code",
   "execution_count": 60,
   "metadata": {},
   "outputs": [
    {
     "data": {
      "text/plain": [
       "4"
      ]
     },
     "execution_count": 60,
     "metadata": {},
     "output_type": "execute_result"
    }
   ],
   "source": [
    "date_total.iloc[0].Total"
   ]
  },
  {
   "cell_type": "code",
   "execution_count": 72,
   "metadata": {},
   "outputs": [],
   "source": [
    "first = 0\n",
    "second = 0\n",
    "third = 0\n",
    "fourth = 0\n",
    "fifth = 0\n",
    "sixth = 0\n",
    "seventh = 0\n",
    "th8 = 0\n",
    "th9 = 0\n",
    "th10 = 0\n",
    "th11 = 0\n",
    "th12 = 0\n",
    "\n",
    "for i in range(len(date_total)):\n",
    "    if date_total.iloc[i].Date == \"09-19-2016\": \n",
    "        first += date_total.iloc[i].Total\n",
    "    if date_total.iloc[i].Date == \"09-28-2016\": \n",
    "        second += date_total.iloc[i].Total\n",
    "    if date_total.iloc[i].Date == \"09-09-2016\": \n",
    "        third += date_total.iloc[i].Total\n",
    "    if date_total.iloc[i].Date == \"05-24-2017\": \n",
    "        fourth += date_total.iloc[i].Total\n",
    "    if date_total.iloc[i].Date == \"12-25-2016\": \n",
    "        fifth += date_total.iloc[i].Total\n",
    "    if date_total.iloc[i].Date == \"11-24-2016\": \n",
    "        sixth += date_total.iloc[i].Total\n",
    "    if date_total.iloc[i].Date == \"01-12-2017\": \n",
    "        seventh += date_total.iloc[i].Total\n",
    "    if date_total.iloc[i].Date == \"01-12-2017\": \n",
    "        th8 += date_total.iloc[i].Total\n",
    "    if date_total.iloc[i].Date == \"10-27-2016\": \n",
    "        th9 += date_total.iloc[i].Total\n",
    "    if date_total.iloc[i].Date == \"05-04-2016\": \n",
    "        th10 += date_total.iloc[i].Total\n",
    "    if date_total.iloc[i].Date == \"10-23-2016\": \n",
    "        th11 += date_total.iloc[i].Total\n",
    "    if date_total.iloc[i].Date == \"11-23-2016\": \n",
    "        th12 += date_total.iloc[i].Total"
   ]
  },
  {
   "cell_type": "code",
   "execution_count": 73,
   "metadata": {},
   "outputs": [],
   "source": [
    "list_of_totals = []\n",
    "\n",
    "list_of_totals.append(first)\n",
    "list_of_totals.append(second)\n",
    "list_of_totals.append(third)\n",
    "list_of_totals.append(fourth)\n",
    "list_of_totals.append(fifth)\n",
    "list_of_totals.append(sixth)\n",
    "list_of_totals.append(seventh)\n",
    "list_of_totals.append(th8)\n",
    "list_of_totals.append(th9)\n",
    "list_of_totals.append(th10)\n",
    "list_of_totals.append(th11)\n",
    "list_of_totals.append(th12)\n",
    "\n",
    "list_of_dates = [\"09-19-2016\", \"09-28-2016\", \"09-09-2016\",\"05-24-2017\", \"12-25-2016\", \"11-24-2016\",\"01-12-2017\",\"01-12-2017\",\"10-27-2016\",\"05-04-2016\",\"10-23-2016\",\"11-23-2016\"]"
   ]
  },
  {
   "cell_type": "code",
   "execution_count": 74,
   "metadata": {},
   "outputs": [
    {
     "data": {
      "image/png": "[encoded data removed]",
      "text/plain": [
       "<Figure size 640x480 with 1 Axes>"
      ]
     },
     "metadata": {},
     "output_type": "display_data"
    }
   ],
   "source": [
    "plt.rcdefaults()\n",
    "fig, ax = plt.subplots()\n",
    "y_pos = np.arange(len(list_of_dates))\n",
    "ax.barh(y_pos, list_of_totals)\n",
    "ax.set_yticks(y_pos)\n",
    "ax.set_yticklabels(list_of_dates)\n",
    "ax.set_xlabel('Total Number of Plastic Items')\n",
    "plt.show()"
   ]
  },
  {
   "cell_type": "code",
   "execution_count": null,
   "metadata": {},
   "outputs": [],
   "source": []
  }
 ],
 "metadata": {
  "kernelspec": {
   "display_name": "Python 3",
   "language": "python",
   "name": "python3"
  },
  "language_info": {
   "codemirror_mode": {
    "name": "ipython",
    "version": 3
   },
   "file_extension": ".py",
   "mimetype": "text/x-python",
   "name": "python",
   "nbconvert_exporter": "python",
   "pygments_lexer": "ipython3",
   "version": "3.7.5"
  }
 },
 "nbformat": 4,
 "nbformat_minor": 4
}
